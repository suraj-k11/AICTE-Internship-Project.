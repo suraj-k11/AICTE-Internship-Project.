{
 "cells": [
  {
   "cell_type": "markdown",
   "id": "77b52468",
   "metadata": {},
   "source": [
    "# 🗑️ Week-1 Project Submission - Garbage Classification\n",
    "This notebook is part of the **AICTE Edunet Internship (Week-1)**.\n",
    "\n",
    "Focus: Dataset setup, preprocessing, and Logistic Regression baseline model."
   ]
  },
  {
   "cell_type": "code",
   "execution_count": null,
   "id": "86f76939",
   "metadata": {},
   "outputs": [],
   "source": [
    "# Step 1: Import Libraries\n",
    "import tensorflow as tf\n",
    "from tensorflow.keras.preprocessing.image import ImageDataGenerator\n",
    "import matplotlib.pyplot as plt\n",
    "import numpy as np\n",
    "import os\n",
    "from sklearn.linear_model import LogisticRegression\n",
    "from sklearn.metrics import accuracy_score"
   ]
  },
  {
   "cell_type": "code",
   "execution_count": null,
   "id": "2238b8b7",
   "metadata": {},
   "outputs": [],
   "source": [
    "# Step 2: Dataset Path\n",
    "# Update this path according to your Kaggle environment or local setup\n",
    "dataset_dir = \"/kaggle/input/garbage-classification-v2/garbage-dataset\"\n",
    "print(\"Dataset directory set to:\", dataset_dir)"
   ]
  },
  {
   "cell_type": "code",
   "execution_count": null,
   "id": "a8dce8db",
   "metadata": {},
   "outputs": [],
   "source": [
    "# Step 3: Data Preprocessing using ImageDataGenerator\n",
    "datagen = ImageDataGenerator(rescale=1./255, validation_split=0.3)\n",
    "\n",
    "train_generator = datagen.flow_from_directory(\n",
    "    dataset_dir,\n",
    "    target_size=(32, 32),\n",
    "    batch_size=64,\n",
    "    class_mode=\"categorical\",\n",
    "    subset=\"training\",\n",
    "    shuffle=True\n",
    ")\n",
    "\n",
    "val_generator = datagen.flow_from_directory(\n",
    "    dataset_dir,\n",
    "    target_size=(32, 32),\n",
    "    batch_size=64,\n",
    "    class_mode=\"categorical\",\n",
    "    subset=\"validation\",\n",
    "    shuffle=True\n",
    ")\n",
    "\n",
    "print(\"Classes found:\", train_generator.class_indices)"
   ]
  },
  {
   "cell_type": "code",
   "execution_count": null,
   "id": "8057153e",
   "metadata": {},
   "outputs": [],
   "source": [
    "# Step 4: Visualize Some Images\n",
    "x_batch, y_batch = next(train_generator)\n",
    "plt.figure(figsize=(8,8))\n",
    "for i in range(9):\n",
    "    plt.subplot(3,3,i+1)\n",
    "    plt.imshow(x_batch[i])\n",
    "    plt.axis(\"off\")\n",
    "plt.show()"
   ]
  },
  {
   "cell_type": "code",
   "execution_count": null,
   "id": "cd751b33",
   "metadata": {},
   "outputs": [],
   "source": [
    "# Step 5: Baseline Model - Logistic Regression\n",
    "# Flatten images for Logistic Regression\n",
    "X_train = x_batch.reshape(len(x_batch), -1)\n",
    "y_train = y_batch.argmax(axis=1)\n",
    "\n",
    "X_val, y_val = next(val_generator)\n",
    "X_val = X_val.reshape(len(X_val), -1)\n",
    "y_val = y_val.argmax(axis=1)\n",
    "\n",
    "# Train Logistic Regression\n",
    "clf = LogisticRegression(max_iter=1000, solver=\"saga\", multi_class=\"multinomial\")\n",
    "clf.fit(X_train, y_train)\n",
    "\n",
    "# Evaluate\n",
    "y_pred = clf.predict(X_val)\n",
    "acc = accuracy_score(y_val, y_pred)\n",
    "print(f\"Baseline Validation Accuracy: {acc:.2f}\")"
   ]
  }
 ],
 "metadata": {},
 "nbformat": 4,
 "nbformat_minor": 5
}
